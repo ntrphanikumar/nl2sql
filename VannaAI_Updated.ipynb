{
  "cells": [
    {
      "cell_type": "markdown",
      "id": "734626fe",
      "metadata": {
        "id": "734626fe"
      },
      "source": [
        "## Installing required packages"
      ]
    },
    {
      "cell_type": "code",
      "execution_count": null,
      "id": "b6a0ef6b",
      "metadata": {
        "id": "b6a0ef6b",
        "outputId": "9f5dd863-a747-4786-abb4-2cae64cf8247"
      },
      "outputs": [
        {
          "name": "stdout",
          "output_type": "stream",
          "text": [
            "Defaulting to user installation because normal site-packages is not writeable\n",
            "Requirement already satisfied: vanna in c:\\users\\pjoshi\\appdata\\roaming\\python\\python311\\site-packages (from -r requirements.txt (line 1)) (0.6.3)\n",
            "Requirement already satisfied: streamlit in c:\\users\\pjoshi\\appdata\\roaming\\python\\python311\\site-packages (from -r requirements.txt (line 2)) (1.36.0)\n",
            "Requirement already satisfied: python-dotenv in c:\\programdata\\anaconda3\\lib\\site-packages (from -r requirements.txt (line 3)) (0.21.0)\n",
            "Requirement already satisfied: requests in c:\\programdata\\anaconda3\\lib\\site-packages (from vanna->-r requirements.txt (line 1)) (2.31.0)\n",
            "Requirement already satisfied: tabulate in c:\\programdata\\anaconda3\\lib\\site-packages (from vanna->-r requirements.txt (line 1)) (0.8.10)\n",
            "Requirement already satisfied: plotly in c:\\programdata\\anaconda3\\lib\\site-packages (from vanna->-r requirements.txt (line 1)) (5.9.0)\n",
            "Requirement already satisfied: pandas in c:\\users\\pjoshi\\appdata\\roaming\\python\\python311\\site-packages (from vanna->-r requirements.txt (line 1)) (1.5.3)\n",
            "Requirement already satisfied: sqlparse in c:\\users\\pjoshi\\appdata\\roaming\\python\\python311\\site-packages (from vanna->-r requirements.txt (line 1)) (0.5.1)\n",
            "Requirement already satisfied: kaleido in c:\\programdata\\anaconda3\\lib\\site-packages (from vanna->-r requirements.txt (line 1)) (0.2.1)\n",
            "Requirement already satisfied: flask in c:\\programdata\\anaconda3\\lib\\site-packages (from vanna->-r requirements.txt (line 1)) (2.2.2)\n",
            "Requirement already satisfied: flask-sock in c:\\users\\pjoshi\\appdata\\roaming\\python\\python311\\site-packages (from vanna->-r requirements.txt (line 1)) (0.7.0)\n",
            "Requirement already satisfied: sqlalchemy in c:\\programdata\\anaconda3\\lib\\site-packages (from vanna->-r requirements.txt (line 1)) (1.4.39)\n",
            "Requirement already satisfied: altair<6,>=4.0 in c:\\users\\pjoshi\\appdata\\roaming\\python\\python311\\site-packages (from streamlit->-r requirements.txt (line 2)) (5.3.0)\n",
            "Requirement already satisfied: blinker<2,>=1.0.0 in c:\\users\\pjoshi\\appdata\\roaming\\python\\python311\\site-packages (from streamlit->-r requirements.txt (line 2)) (1.8.2)\n",
            "Requirement already satisfied: cachetools<6,>=4.0 in c:\\users\\pjoshi\\appdata\\roaming\\python\\python311\\site-packages (from streamlit->-r requirements.txt (line 2)) (5.4.0)\n",
            "Requirement already satisfied: click<9,>=7.0 in c:\\programdata\\anaconda3\\lib\\site-packages (from streamlit->-r requirements.txt (line 2)) (8.0.4)\n",
            "Requirement already satisfied: numpy<3,>=1.20 in c:\\programdata\\anaconda3\\lib\\site-packages (from streamlit->-r requirements.txt (line 2)) (1.24.3)\n",
            "Requirement already satisfied: packaging<25,>=20 in c:\\programdata\\anaconda3\\lib\\site-packages (from streamlit->-r requirements.txt (line 2)) (23.1)\n",
            "Requirement already satisfied: pillow<11,>=7.1.0 in c:\\programdata\\anaconda3\\lib\\site-packages (from streamlit->-r requirements.txt (line 2)) (10.0.1)\n",
            "Requirement already satisfied: protobuf<6,>=3.20 in c:\\users\\pjoshi\\appdata\\roaming\\python\\python311\\site-packages (from streamlit->-r requirements.txt (line 2)) (4.25.3)\n",
            "Requirement already satisfied: pyarrow>=7.0 in c:\\programdata\\anaconda3\\lib\\site-packages (from streamlit->-r requirements.txt (line 2)) (11.0.0)\n",
            "Requirement already satisfied: rich<14,>=10.14.0 in c:\\users\\pjoshi\\appdata\\roaming\\python\\python311\\site-packages (from streamlit->-r requirements.txt (line 2)) (13.7.1)\n",
            "Requirement already satisfied: tenacity<9,>=8.1.0 in c:\\programdata\\anaconda3\\lib\\site-packages (from streamlit->-r requirements.txt (line 2)) (8.2.2)\n",
            "Requirement already satisfied: toml<2,>=0.10.1 in c:\\programdata\\anaconda3\\lib\\site-packages (from streamlit->-r requirements.txt (line 2)) (0.10.2)\n",
            "Requirement already satisfied: typing-extensions<5,>=4.3.0 in c:\\users\\pjoshi\\appdata\\roaming\\python\\python311\\site-packages (from streamlit->-r requirements.txt (line 2)) (4.11.0)\n",
            "Requirement already satisfied: gitpython!=3.1.19,<4,>=3.0.7 in c:\\users\\pjoshi\\appdata\\roaming\\python\\python311\\site-packages (from streamlit->-r requirements.txt (line 2)) (3.1.43)\n",
            "Requirement already satisfied: pydeck<1,>=0.8.0b4 in c:\\users\\pjoshi\\appdata\\roaming\\python\\python311\\site-packages (from streamlit->-r requirements.txt (line 2)) (0.9.1)\n",
            "Requirement already satisfied: tornado<7,>=6.0.3 in c:\\programdata\\anaconda3\\lib\\site-packages (from streamlit->-r requirements.txt (line 2)) (6.3.2)\n",
            "Requirement already satisfied: watchdog<5,>=2.1.5 in c:\\programdata\\anaconda3\\lib\\site-packages (from streamlit->-r requirements.txt (line 2)) (2.1.6)\n",
            "Requirement already satisfied: jinja2 in c:\\programdata\\anaconda3\\lib\\site-packages (from altair<6,>=4.0->streamlit->-r requirements.txt (line 2)) (3.1.2)\n",
            "Requirement already satisfied: jsonschema>=3.0 in c:\\programdata\\anaconda3\\lib\\site-packages (from altair<6,>=4.0->streamlit->-r requirements.txt (line 2)) (4.17.3)\n",
            "Requirement already satisfied: toolz in c:\\programdata\\anaconda3\\lib\\site-packages (from altair<6,>=4.0->streamlit->-r requirements.txt (line 2)) (0.12.0)\n",
            "Requirement already satisfied: colorama in c:\\programdata\\anaconda3\\lib\\site-packages (from click<9,>=7.0->streamlit->-r requirements.txt (line 2)) (0.4.6)\n",
            "Requirement already satisfied: gitdb<5,>=4.0.1 in c:\\users\\pjoshi\\appdata\\roaming\\python\\python311\\site-packages (from gitpython!=3.1.19,<4,>=3.0.7->streamlit->-r requirements.txt (line 2)) (4.0.11)\n",
            "Requirement already satisfied: python-dateutil>=2.8.1 in c:\\programdata\\anaconda3\\lib\\site-packages (from pandas->vanna->-r requirements.txt (line 1)) (2.8.2)\n",
            "Requirement already satisfied: pytz>=2020.1 in c:\\programdata\\anaconda3\\lib\\site-packages (from pandas->vanna->-r requirements.txt (line 1)) (2023.3.post1)\n",
            "Requirement already satisfied: charset-normalizer<4,>=2 in c:\\programdata\\anaconda3\\lib\\site-packages (from requests->vanna->-r requirements.txt (line 1)) (2.0.4)\n",
            "Requirement already satisfied: idna<4,>=2.5 in c:\\programdata\\anaconda3\\lib\\site-packages (from requests->vanna->-r requirements.txt (line 1)) (3.4)\n",
            "Requirement already satisfied: urllib3<3,>=1.21.1 in c:\\programdata\\anaconda3\\lib\\site-packages (from requests->vanna->-r requirements.txt (line 1)) (1.26.16)\n",
            "Requirement already satisfied: certifi>=2017.4.17 in c:\\programdata\\anaconda3\\lib\\site-packages (from requests->vanna->-r requirements.txt (line 1)) (2023.7.22)\n",
            "Requirement already satisfied: markdown-it-py>=2.2.0 in c:\\programdata\\anaconda3\\lib\\site-packages (from rich<14,>=10.14.0->streamlit->-r requirements.txt (line 2)) (2.2.0)\n",
            "Requirement already satisfied: pygments<3.0.0,>=2.13.0 in c:\\programdata\\anaconda3\\lib\\site-packages (from rich<14,>=10.14.0->streamlit->-r requirements.txt (line 2)) (2.15.1)\n",
            "Requirement already satisfied: Werkzeug>=2.2.2 in c:\\programdata\\anaconda3\\lib\\site-packages (from flask->vanna->-r requirements.txt (line 1)) (2.2.3)\n",
            "Requirement already satisfied: itsdangerous>=2.0 in c:\\programdata\\anaconda3\\lib\\site-packages (from flask->vanna->-r requirements.txt (line 1)) (2.0.1)\n",
            "Requirement already satisfied: simple-websocket>=0.5.1 in c:\\users\\pjoshi\\appdata\\roaming\\python\\python311\\site-packages (from flask-sock->vanna->-r requirements.txt (line 1)) (1.0.0)\n",
            "Requirement already satisfied: greenlet!=0.4.17 in c:\\programdata\\anaconda3\\lib\\site-packages (from sqlalchemy->vanna->-r requirements.txt (line 1)) (2.0.1)\n",
            "Requirement already satisfied: smmap<6,>=3.0.1 in c:\\users\\pjoshi\\appdata\\roaming\\python\\python311\\site-packages (from gitdb<5,>=4.0.1->gitpython!=3.1.19,<4,>=3.0.7->streamlit->-r requirements.txt (line 2)) (5.0.1)\n",
            "Requirement already satisfied: MarkupSafe>=2.0 in c:\\programdata\\anaconda3\\lib\\site-packages (from jinja2->altair<6,>=4.0->streamlit->-r requirements.txt (line 2)) (2.1.1)\n",
            "Requirement already satisfied: attrs>=17.4.0 in c:\\programdata\\anaconda3\\lib\\site-packages (from jsonschema>=3.0->altair<6,>=4.0->streamlit->-r requirements.txt (line 2)) (22.1.0)\n",
            "Requirement already satisfied: pyrsistent!=0.17.0,!=0.17.1,!=0.17.2,>=0.14.0 in c:\\programdata\\anaconda3\\lib\\site-packages (from jsonschema>=3.0->altair<6,>=4.0->streamlit->-r requirements.txt (line 2)) (0.18.0)\n",
            "Requirement already satisfied: mdurl~=0.1 in c:\\programdata\\anaconda3\\lib\\site-packages (from markdown-it-py>=2.2.0->rich<14,>=10.14.0->streamlit->-r requirements.txt (line 2)) (0.1.0)\n",
            "Requirement already satisfied: six>=1.5 in c:\\programdata\\anaconda3\\lib\\site-packages (from python-dateutil>=2.8.1->pandas->vanna->-r requirements.txt (line 1)) (1.16.0)\n",
            "Requirement already satisfied: wsproto in c:\\users\\pjoshi\\appdata\\roaming\\python\\python311\\site-packages (from simple-websocket>=0.5.1->flask-sock->vanna->-r requirements.txt (line 1)) (1.2.0)\n",
            "Requirement already satisfied: h11<1,>=0.9.0 in c:\\users\\pjoshi\\appdata\\roaming\\python\\python311\\site-packages (from wsproto->simple-websocket>=0.5.1->flask-sock->vanna->-r requirements.txt (line 1)) (0.14.0)\n",
            "Note: you may need to restart the kernel to use updated packages.\n"
          ]
        }
      ],
      "source": [
        "pip install -r requirements.txt\n"
      ]
    },
    {
      "cell_type": "code",
      "execution_count": null,
      "id": "8dd2a588",
      "metadata": {
        "id": "8dd2a588",
        "outputId": "4c32a05b-d38a-4c7a-b961-cd9db6e889cf"
      },
      "outputs": [
        {
          "name": "stdout",
          "output_type": "stream",
          "text": [
            "Defaulting to user installation because normal site-packages is not writeable\n",
            "Requirement already satisfied: vanna in c:\\users\\pjoshi\\appdata\\roaming\\python\\python311\\site-packages (0.6.3)\n",
            "Requirement already satisfied: mysql-connector-python in c:\\users\\pjoshi\\appdata\\roaming\\python\\python311\\site-packages (9.0.0)\n",
            "Requirement already satisfied: requests in c:\\programdata\\anaconda3\\lib\\site-packages (from vanna) (2.31.0)\n",
            "Requirement already satisfied: tabulate in c:\\programdata\\anaconda3\\lib\\site-packages (from vanna) (0.8.10)\n",
            "Requirement already satisfied: plotly in c:\\programdata\\anaconda3\\lib\\site-packages (from vanna) (5.9.0)\n",
            "Requirement already satisfied: pandas in c:\\users\\pjoshi\\appdata\\roaming\\python\\python311\\site-packages (from vanna) (1.5.3)\n",
            "Requirement already satisfied: sqlparse in c:\\users\\pjoshi\\appdata\\roaming\\python\\python311\\site-packages (from vanna) (0.5.1)\n",
            "Requirement already satisfied: kaleido in c:\\programdata\\anaconda3\\lib\\site-packages (from vanna) (0.2.1)\n",
            "Requirement already satisfied: flask in c:\\programdata\\anaconda3\\lib\\site-packages (from vanna) (2.2.2)\n",
            "Requirement already satisfied: flask-sock in c:\\users\\pjoshi\\appdata\\roaming\\python\\python311\\site-packages (from vanna) (0.7.0)\n",
            "Requirement already satisfied: sqlalchemy in c:\\programdata\\anaconda3\\lib\\site-packages (from vanna) (1.4.39)\n",
            "Requirement already satisfied: Werkzeug>=2.2.2 in c:\\programdata\\anaconda3\\lib\\site-packages (from flask->vanna) (2.2.3)\n",
            "Requirement already satisfied: Jinja2>=3.0 in c:\\programdata\\anaconda3\\lib\\site-packages (from flask->vanna) (3.1.2)\n",
            "Requirement already satisfied: itsdangerous>=2.0 in c:\\programdata\\anaconda3\\lib\\site-packages (from flask->vanna) (2.0.1)\n",
            "Requirement already satisfied: click>=8.0 in c:\\programdata\\anaconda3\\lib\\site-packages (from flask->vanna) (8.0.4)\n",
            "Requirement already satisfied: simple-websocket>=0.5.1 in c:\\users\\pjoshi\\appdata\\roaming\\python\\python311\\site-packages (from flask-sock->vanna) (1.0.0)\n",
            "Requirement already satisfied: python-dateutil>=2.8.1 in c:\\programdata\\anaconda3\\lib\\site-packages (from pandas->vanna) (2.8.2)\n",
            "Requirement already satisfied: pytz>=2020.1 in c:\\programdata\\anaconda3\\lib\\site-packages (from pandas->vanna) (2023.3.post1)\n",
            "Requirement already satisfied: numpy>=1.21.0 in c:\\programdata\\anaconda3\\lib\\site-packages (from pandas->vanna) (1.24.3)\n",
            "Requirement already satisfied: tenacity>=6.2.0 in c:\\programdata\\anaconda3\\lib\\site-packages (from plotly->vanna) (8.2.2)\n",
            "Requirement already satisfied: charset-normalizer<4,>=2 in c:\\programdata\\anaconda3\\lib\\site-packages (from requests->vanna) (2.0.4)\n",
            "Requirement already satisfied: idna<4,>=2.5 in c:\\programdata\\anaconda3\\lib\\site-packages (from requests->vanna) (3.4)\n",
            "Requirement already satisfied: urllib3<3,>=1.21.1 in c:\\programdata\\anaconda3\\lib\\site-packages (from requests->vanna) (1.26.16)\n",
            "Requirement already satisfied: certifi>=2017.4.17 in c:\\programdata\\anaconda3\\lib\\site-packages (from requests->vanna) (2023.7.22)\n",
            "Requirement already satisfied: greenlet!=0.4.17 in c:\\programdata\\anaconda3\\lib\\site-packages (from sqlalchemy->vanna) (2.0.1)\n",
            "Requirement already satisfied: colorama in c:\\programdata\\anaconda3\\lib\\site-packages (from click>=8.0->flask->vanna) (0.4.6)\n",
            "Requirement already satisfied: MarkupSafe>=2.0 in c:\\programdata\\anaconda3\\lib\\site-packages (from Jinja2>=3.0->flask->vanna) (2.1.1)\n",
            "Requirement already satisfied: six>=1.5 in c:\\programdata\\anaconda3\\lib\\site-packages (from python-dateutil>=2.8.1->pandas->vanna) (1.16.0)\n",
            "Requirement already satisfied: wsproto in c:\\users\\pjoshi\\appdata\\roaming\\python\\python311\\site-packages (from simple-websocket>=0.5.1->flask-sock->vanna) (1.2.0)\n",
            "Requirement already satisfied: h11<1,>=0.9.0 in c:\\users\\pjoshi\\appdata\\roaming\\python\\python311\\site-packages (from wsproto->simple-websocket>=0.5.1->flask-sock->vanna) (0.14.0)\n"
          ]
        }
      ],
      "source": [
        "!pip install vanna mysql-connector-python\n"
      ]
    },
    {
      "cell_type": "code",
      "execution_count": null,
      "id": "b9a34900",
      "metadata": {
        "id": "b9a34900",
        "outputId": "b50bede5-1f98-4207-f65f-11642fd211c9"
      },
      "outputs": [
        {
          "name": "stdout",
          "output_type": "stream",
          "text": [
            "Defaulting to user installation because normal site-packages is not writeable\n",
            "Requirement already satisfied: vanna in c:\\users\\pjoshi\\appdata\\roaming\\python\\python311\\site-packages (0.6.3)\n",
            "Requirement already satisfied: mysql-connector-python in c:\\users\\pjoshi\\appdata\\roaming\\python\\python311\\site-packages (9.0.0)\n",
            "Requirement already satisfied: sqlalchemy in c:\\programdata\\anaconda3\\lib\\site-packages (1.4.39)\n",
            "Requirement already satisfied: requests in c:\\programdata\\anaconda3\\lib\\site-packages (from vanna) (2.31.0)\n",
            "Requirement already satisfied: tabulate in c:\\programdata\\anaconda3\\lib\\site-packages (from vanna) (0.8.10)\n",
            "Requirement already satisfied: plotly in c:\\programdata\\anaconda3\\lib\\site-packages (from vanna) (5.9.0)\n",
            "Requirement already satisfied: pandas in c:\\users\\pjoshi\\appdata\\roaming\\python\\python311\\site-packages (from vanna) (1.5.3)\n",
            "Requirement already satisfied: sqlparse in c:\\users\\pjoshi\\appdata\\roaming\\python\\python311\\site-packages (from vanna) (0.5.1)\n",
            "Requirement already satisfied: kaleido in c:\\programdata\\anaconda3\\lib\\site-packages (from vanna) (0.2.1)\n",
            "Requirement already satisfied: flask in c:\\programdata\\anaconda3\\lib\\site-packages (from vanna) (2.2.2)\n",
            "Requirement already satisfied: flask-sock in c:\\users\\pjoshi\\appdata\\roaming\\python\\python311\\site-packages (from vanna) (0.7.0)\n",
            "Requirement already satisfied: greenlet!=0.4.17 in c:\\programdata\\anaconda3\\lib\\site-packages (from sqlalchemy) (2.0.1)\n",
            "Requirement already satisfied: Werkzeug>=2.2.2 in c:\\programdata\\anaconda3\\lib\\site-packages (from flask->vanna) (2.2.3)\n",
            "Requirement already satisfied: Jinja2>=3.0 in c:\\programdata\\anaconda3\\lib\\site-packages (from flask->vanna) (3.1.2)\n",
            "Requirement already satisfied: itsdangerous>=2.0 in c:\\programdata\\anaconda3\\lib\\site-packages (from flask->vanna) (2.0.1)\n",
            "Requirement already satisfied: click>=8.0 in c:\\programdata\\anaconda3\\lib\\site-packages (from flask->vanna) (8.0.4)\n",
            "Requirement already satisfied: simple-websocket>=0.5.1 in c:\\users\\pjoshi\\appdata\\roaming\\python\\python311\\site-packages (from flask-sock->vanna) (1.0.0)\n",
            "Requirement already satisfied: python-dateutil>=2.8.1 in c:\\programdata\\anaconda3\\lib\\site-packages (from pandas->vanna) (2.8.2)\n",
            "Requirement already satisfied: pytz>=2020.1 in c:\\programdata\\anaconda3\\lib\\site-packages (from pandas->vanna) (2023.3.post1)\n",
            "Requirement already satisfied: numpy>=1.21.0 in c:\\programdata\\anaconda3\\lib\\site-packages (from pandas->vanna) (1.24.3)\n",
            "Requirement already satisfied: tenacity>=6.2.0 in c:\\programdata\\anaconda3\\lib\\site-packages (from plotly->vanna) (8.2.2)\n",
            "Requirement already satisfied: charset-normalizer<4,>=2 in c:\\programdata\\anaconda3\\lib\\site-packages (from requests->vanna) (2.0.4)\n",
            "Requirement already satisfied: idna<4,>=2.5 in c:\\programdata\\anaconda3\\lib\\site-packages (from requests->vanna) (3.4)\n",
            "Requirement already satisfied: urllib3<3,>=1.21.1 in c:\\programdata\\anaconda3\\lib\\site-packages (from requests->vanna) (1.26.16)\n",
            "Requirement already satisfied: certifi>=2017.4.17 in c:\\programdata\\anaconda3\\lib\\site-packages (from requests->vanna) (2023.7.22)\n",
            "Requirement already satisfied: colorama in c:\\programdata\\anaconda3\\lib\\site-packages (from click>=8.0->flask->vanna) (0.4.6)\n",
            "Requirement already satisfied: MarkupSafe>=2.0 in c:\\programdata\\anaconda3\\lib\\site-packages (from Jinja2>=3.0->flask->vanna) (2.1.1)\n",
            "Requirement already satisfied: six>=1.5 in c:\\programdata\\anaconda3\\lib\\site-packages (from python-dateutil>=2.8.1->pandas->vanna) (1.16.0)\n",
            "Requirement already satisfied: wsproto in c:\\users\\pjoshi\\appdata\\roaming\\python\\python311\\site-packages (from simple-websocket>=0.5.1->flask-sock->vanna) (1.2.0)\n",
            "Requirement already satisfied: h11<1,>=0.9.0 in c:\\users\\pjoshi\\appdata\\roaming\\python\\python311\\site-packages (from wsproto->simple-websocket>=0.5.1->flask-sock->vanna) (0.14.0)\n"
          ]
        }
      ],
      "source": [
        "!pip install vanna mysql-connector-python sqlalchemy\n"
      ]
    },
    {
      "cell_type": "code",
      "execution_count": null,
      "id": "cf4ca0a8",
      "metadata": {
        "id": "cf4ca0a8",
        "outputId": "75ea423c-49f2-4c8f-e008-6d3bb8fbedff"
      },
      "outputs": [
        {
          "name": "stdout",
          "output_type": "stream",
          "text": [
            "Defaulting to user installation because normal site-packages is not writeable\n",
            "Requirement already satisfied: vanna in c:\\users\\pjoshi\\appdata\\roaming\\python\\python311\\site-packages (0.6.3)\n",
            "Requirement already satisfied: mysql-connector-python in c:\\users\\pjoshi\\appdata\\roaming\\python\\python311\\site-packages (9.0.0)\n",
            "Requirement already satisfied: sqlalchemy in c:\\programdata\\anaconda3\\lib\\site-packages (1.4.39)\n",
            "Requirement already satisfied: requests in c:\\programdata\\anaconda3\\lib\\site-packages (from vanna) (2.31.0)\n",
            "Requirement already satisfied: tabulate in c:\\programdata\\anaconda3\\lib\\site-packages (from vanna) (0.8.10)\n",
            "Requirement already satisfied: plotly in c:\\programdata\\anaconda3\\lib\\site-packages (from vanna) (5.9.0)\n",
            "Requirement already satisfied: pandas in c:\\users\\pjoshi\\appdata\\roaming\\python\\python311\\site-packages (from vanna) (1.5.3)\n",
            "Requirement already satisfied: sqlparse in c:\\users\\pjoshi\\appdata\\roaming\\python\\python311\\site-packages (from vanna) (0.5.1)\n",
            "Requirement already satisfied: kaleido in c:\\programdata\\anaconda3\\lib\\site-packages (from vanna) (0.2.1)\n",
            "Requirement already satisfied: flask in c:\\programdata\\anaconda3\\lib\\site-packages (from vanna) (2.2.2)\n",
            "Requirement already satisfied: flask-sock in c:\\users\\pjoshi\\appdata\\roaming\\python\\python311\\site-packages (from vanna) (0.7.0)\n",
            "Requirement already satisfied: greenlet!=0.4.17 in c:\\programdata\\anaconda3\\lib\\site-packages (from sqlalchemy) (2.0.1)\n",
            "Requirement already satisfied: Werkzeug>=2.2.2 in c:\\programdata\\anaconda3\\lib\\site-packages (from flask->vanna) (2.2.3)\n",
            "Requirement already satisfied: Jinja2>=3.0 in c:\\programdata\\anaconda3\\lib\\site-packages (from flask->vanna) (3.1.2)\n",
            "Requirement already satisfied: itsdangerous>=2.0 in c:\\programdata\\anaconda3\\lib\\site-packages (from flask->vanna) (2.0.1)\n",
            "Requirement already satisfied: click>=8.0 in c:\\programdata\\anaconda3\\lib\\site-packages (from flask->vanna) (8.0.4)\n",
            "Requirement already satisfied: simple-websocket>=0.5.1 in c:\\users\\pjoshi\\appdata\\roaming\\python\\python311\\site-packages (from flask-sock->vanna) (1.0.0)\n",
            "Requirement already satisfied: python-dateutil>=2.8.1 in c:\\programdata\\anaconda3\\lib\\site-packages (from pandas->vanna) (2.8.2)\n",
            "Requirement already satisfied: pytz>=2020.1 in c:\\programdata\\anaconda3\\lib\\site-packages (from pandas->vanna) (2023.3.post1)\n",
            "Requirement already satisfied: numpy>=1.21.0 in c:\\programdata\\anaconda3\\lib\\site-packages (from pandas->vanna) (1.24.3)\n",
            "Requirement already satisfied: tenacity>=6.2.0 in c:\\programdata\\anaconda3\\lib\\site-packages (from plotly->vanna) (8.2.2)\n",
            "Requirement already satisfied: charset-normalizer<4,>=2 in c:\\programdata\\anaconda3\\lib\\site-packages (from requests->vanna) (2.0.4)\n",
            "Requirement already satisfied: idna<4,>=2.5 in c:\\programdata\\anaconda3\\lib\\site-packages (from requests->vanna) (3.4)\n",
            "Requirement already satisfied: urllib3<3,>=1.21.1 in c:\\programdata\\anaconda3\\lib\\site-packages (from requests->vanna) (1.26.16)\n",
            "Requirement already satisfied: certifi>=2017.4.17 in c:\\programdata\\anaconda3\\lib\\site-packages (from requests->vanna) (2023.7.22)\n",
            "Requirement already satisfied: colorama in c:\\programdata\\anaconda3\\lib\\site-packages (from click>=8.0->flask->vanna) (0.4.6)\n",
            "Requirement already satisfied: MarkupSafe>=2.0 in c:\\programdata\\anaconda3\\lib\\site-packages (from Jinja2>=3.0->flask->vanna) (2.1.1)\n",
            "Requirement already satisfied: six>=1.5 in c:\\programdata\\anaconda3\\lib\\site-packages (from python-dateutil>=2.8.1->pandas->vanna) (1.16.0)\n",
            "Requirement already satisfied: wsproto in c:\\users\\pjoshi\\appdata\\roaming\\python\\python311\\site-packages (from simple-websocket>=0.5.1->flask-sock->vanna) (1.2.0)\n",
            "Requirement already satisfied: h11<1,>=0.9.0 in c:\\users\\pjoshi\\appdata\\roaming\\python\\python311\\site-packages (from wsproto->simple-websocket>=0.5.1->flask-sock->vanna) (0.14.0)\n"
          ]
        }
      ],
      "source": [
        "!pip install vanna mysql-connector-python sqlalchemy\n"
      ]
    },
    {
      "cell_type": "code",
      "execution_count": null,
      "id": "621df994",
      "metadata": {
        "id": "621df994",
        "outputId": "82e91836-ac30-41e1-fe86-acee82c25453"
      },
      "outputs": [
        {
          "name": "stdout",
          "output_type": "stream",
          "text": [
            "Defaulting to user installation because normal site-packages is not writeable\n",
            "Requirement already satisfied: pymysql in c:\\users\\pjoshi\\appdata\\roaming\\python\\python311\\site-packages (1.1.1)\n",
            "Note: you may need to restart the kernel to use updated packages.\n"
          ]
        }
      ],
      "source": [
        "pip install pymysql"
      ]
    },
    {
      "cell_type": "markdown",
      "id": "4d967fee",
      "metadata": {
        "id": "4d967fee"
      },
      "source": [
        "## Connecting to MySQL"
      ]
    },
    {
      "cell_type": "code",
      "execution_count": null,
      "id": "4f14d6e6",
      "metadata": {
        "id": "4f14d6e6",
        "outputId": "a8793b15-ba52-49f2-d2b4-ad97b538ef61"
      },
      "outputs": [
        {
          "name": "stdout",
          "output_type": "stream",
          "text": [
            "Connected to MySQL database\n"
          ]
        }
      ],
      "source": [
        "import mysql.connector\n",
        "\n",
        "\n",
        "# Replace these with your actual database connection details\n",
        "mysql_host = '127.0.0.1'  # Your MySQL server address\n",
        "mysql_user = 'root'  # Your MySQL username\n",
        "mysql_password = 'Priyal@12345'  # Your MySQL password\n",
        "mysql_database = 'vannaai'  # Your MySQL database name\n",
        "\n",
        "# Connect to the MySQL database using mysql.connector\n",
        "connection = mysql.connector.connect(\n",
        "    host=mysql_host,\n",
        "    user=mysql_user,\n",
        "    password=mysql_password,\n",
        "    database=mysql_database\n",
        ")\n",
        "\n",
        "# Check if connection was successful\n",
        "if connection.is_connected():\n",
        "    print('Connected to MySQL database')\n"
      ]
    },
    {
      "cell_type": "markdown",
      "id": "08e4f993",
      "metadata": {
        "id": "08e4f993"
      },
      "source": [
        "## Checking if the MySQL connected"
      ]
    },
    {
      "cell_type": "code",
      "execution_count": null,
      "id": "7949790b",
      "metadata": {
        "id": "7949790b",
        "outputId": "92ad967b-8479-40f9-a2b8-9c98fd5a29a6"
      },
      "outputs": [
        {
          "name": "stdout",
          "output_type": "stream",
          "text": [
            "First Query Result:\n",
            "   EmployeeID FirstName  LastName   Department    Salary\n",
            "0           1      John       Doe  Engineering  75000.00\n",
            "1           2      Jane     Smith    Marketing  65000.00\n",
            "2           3     Emily     Jones  Engineering  80000.00\n",
            "3           4   Michael     Brown        Sales  72000.00\n",
            "4           5     Sarah     Davis    Marketing  60000.00\n",
            "5           6   William    Wilson  Engineering  71000.00\n",
            "6           7    Olivia    Taylor        Sales  68000.00\n",
            "7           8     James  Anderson    Marketing  62000.00\n",
            "8           9  Isabella    Thomas  Engineering  73000.00\n",
            "9          10  Benjamin   Jackson        Sales  75000.00\n",
            "\n",
            "Second Query Result:\n",
            "   TotalEmployees\n",
            "0              50\n"
          ]
        }
      ],
      "source": [
        "import pandas as pd\n",
        "\n",
        "\n",
        "def fetch_data(query):\n",
        "    cursor = connection.cursor()\n",
        "    cursor.execute(query)\n",
        "    columns = cursor.column_names\n",
        "    rows = cursor.fetchall()\n",
        "    cursor.close()\n",
        "    return pd.DataFrame(rows, columns=columns)\n",
        "\n",
        "# Example queries\n",
        "query_1 = \"SELECT * FROM Employees LIMIT 10;\"\n",
        "query_2 = \"SELECT COUNT(*) AS TotalEmployees FROM Employees;\"\n",
        "\n",
        "# Fetch and display data\n",
        "df1 = fetch_data(query_1)\n",
        "df2 = fetch_data(query_2)\n",
        "\n",
        "print(\"First Query Result:\")\n",
        "print(df1)\n",
        "\n",
        "print(\"\\nSecond Query Result:\")\n",
        "print(df2)"
      ]
    },
    {
      "cell_type": "code",
      "execution_count": null,
      "id": "1999158e",
      "metadata": {
        "id": "1999158e",
        "outputId": "83769a56-1b5b-4c92-a8fb-7a64e6ae16cb"
      },
      "outputs": [
        {
          "name": "stdout",
          "output_type": "stream",
          "text": [
            "Database connection successful: (1,)\n",
            "Your app is running at:\n",
            "http://localhost:8084\n",
            " * Serving Flask app 'vanna.flask'\n",
            " * Debug mode: on\n"
          ]
        }
      ],
      "source": [
        "import vanna\n",
        "from vanna.remote import VannaDefault\n",
        "from sqlalchemy import create_engine\n",
        "from urllib.parse import quote\n",
        "\n",
        "mysql_host = '127.0.0.1'  # Your MySQL server address\n",
        "mysql_user = 'root'  # Your MySQL username\n",
        "mysql_password = 'Priyal@12345'  # Your MySQL password\n",
        "mysql_database = 'vannaai'  # Your MySQL database name\n",
        "\n",
        "# URL-encode the password\n",
        "mysql_password_encoded = quote(mysql_password)\n",
        "\n",
        "# Create the connection string\n",
        "connection_string = f\"mysql+pymysql://{mysql_user}:{mysql_password_encoded}@{mysql_host}/{mysql_database}\"\n",
        "\n",
        "# Create a SQLAlchemy engine\n",
        "engine = create_engine(connection_string)\n",
        "\n",
        "# Test the database connection\n",
        "try:\n",
        "    with engine.connect() as connection:\n",
        "        result = connection.execute(\"SELECT 1\")\n",
        "        print(\"Database connection successful:\", result.fetchone())\n",
        "except Exception as e:\n",
        "    print(\"Database connection error:\", str(e))\n",
        "\n",
        "# Use your own API key and initialize Vanna AI\n",
        "vn = VannaDefault(model=mysql_database, api_key=\"16da3241422648438e030c87b9c2dc9a\")\n",
        "\n",
        "# Running a Flask app to use Vanna AI interactively\n",
        "from vanna.flask import VannaFlaskApp\n",
        "\n",
        "try:\n",
        "    app = VannaFlaskApp(vn)\n",
        "    app.run()\n",
        "except Exception as e:\n",
        "    print(\"Error running VannaFlaskApp:\", str(e))\n"
      ]
    },
    {
      "cell_type": "code",
      "execution_count": null,
      "id": "29c6e61d",
      "metadata": {
        "id": "29c6e61d"
      },
      "outputs": [],
      "source": []
    }
  ],
  "metadata": {
    "kernelspec": {
      "display_name": "Python 3 (ipykernel)",
      "language": "python",
      "name": "python3"
    },
    "language_info": {
      "codemirror_mode": {
        "name": "ipython",
        "version": 3
      },
      "file_extension": ".py",
      "mimetype": "text/x-python",
      "name": "python",
      "nbconvert_exporter": "python",
      "pygments_lexer": "ipython3",
      "version": "3.11.5"
    },
    "colab": {
      "provenance": []
    }
  },
  "nbformat": 4,
  "nbformat_minor": 5
}